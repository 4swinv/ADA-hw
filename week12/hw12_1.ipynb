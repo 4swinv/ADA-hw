{
 "cells": [
  {
   "cell_type": "markdown",
   "metadata": {},
   "source": [
    "# Homework week 12\n",
    "## Fishers Discriminant Analysis"
   ]
  },
  {
   "cell_type": "code",
   "execution_count": 547,
   "metadata": {},
   "outputs": [],
   "source": [
    "import numpy as np\n",
    "import matplotlib.pyplot as plt\n",
    "from scipy.linalg import eigh\n",
    "np.random.seed(1)"
   ]
  },
  {
   "cell_type": "markdown",
   "metadata": {},
   "source": [
    "## Generate Data 1"
   ]
  },
  {
   "cell_type": "code",
   "execution_count": 548,
   "metadata": {},
   "outputs": [],
   "source": [
    "n = 100\n",
    "x = np.random.randn(n, 2)\n",
    "x[:n//2, 0] -= 4\n",
    "x[n//2:, 0] += 4\n",
    "x -= np.mean(x, axis=0)\n",
    "x1 = x\n",
    "y1 = np.concatenate([np.ones(n//2), 2 * np.ones(n//2)])"
   ]
  },
  {
   "cell_type": "markdown",
   "metadata": {},
   "source": [
    "## Compute FDA"
   ]
  },
  {
   "cell_type": "code",
   "execution_count": 549,
   "metadata": {},
   "outputs": [],
   "source": [
    "def FDA(x,y):\n",
    "    m1 = np.mean(x[y == 1, :], axis=0).reshape(-1,2)\n",
    "    m2 = np.mean(x[y == 2, :], axis=0).reshape(-1,2)\n",
    "\n",
    "    # Center the data for each class\n",
    "    x1 = x[y == 1, :] - m1\n",
    "    x2 = x[y == 2, :] - m2\n",
    "\n",
    "    # Calculate the between-class scatter matrix\n",
    "    S_B = (n / 2) * (m1.T @ m1 + m2.T @ m2)  \n",
    "    # Calculate the within-class scatter matrix\n",
    "    S_W = (x1.T @ x1) + (x2.T @ x2)\n",
    "\n",
    "    # Compute the Fisher's discriminant vector and eigenvalue\n",
    "    eigenvalues, eigenvectors = eigh(S_B, S_W, eigvals=(1, 1))\n",
    "    v = eigenvalues[0]\n",
    "    t = eigenvectors[:, 0]\n",
    "    return t,v"
   ]
  },
  {
   "cell_type": "code",
   "execution_count": 550,
   "metadata": {},
   "outputs": [
    {
     "name": "stdout",
     "output_type": "stream",
     "text": [
      "[0.11823351 0.01532725] 23.377361848491706\n"
     ]
    }
   ],
   "source": [
    "t,v = FDA(x1,y1)\n",
    "print(t,v)"
   ]
  },
  {
   "cell_type": "markdown",
   "metadata": {},
   "source": [
    "## Plotting"
   ]
  },
  {
   "cell_type": "code",
   "execution_count": 551,
   "metadata": {},
   "outputs": [
    {
     "data": {
      "image/png": "[encoded data removed]",
      "text/plain": [
       "<Figure size 432x288 with 1 Axes>"
      ]
     },
     "metadata": {
      "needs_background": "light"
     },
     "output_type": "display_data"
    }
   ],
   "source": [
    "plt.figure(1)\n",
    "plt.clf()\n",
    "plt.axis([-8, 8, -6, 6])\n",
    "\n",
    "plt.plot(x1[y1 == 1, 0], x1[y1 == 1, 1], 'bo')\n",
    "plt.plot(x1[y1 == 2, 0], x[y1 == 2, 1], 'rx')\n",
    "plt.plot(np.array([-t[0], t[0]]) * 99, np.array([-t[1], t[1]]) * 99, color = \"black\")\n",
    "\n",
    "plt.xlabel('x 1')\n",
    "plt.ylabel('x 2')\n",
    "plt.title('FDA Plot')\n",
    "plt.legend(['Class 1', 'Class 2', 'FDA'])\n",
    "plt.grid()\n",
    "plt.show()"
   ]
  },
  {
   "cell_type": "markdown",
   "metadata": {},
   "source": [
    "## Generate Data 2"
   ]
  },
  {
   "cell_type": "code",
   "execution_count": 552,
   "metadata": {},
   "outputs": [],
   "source": [
    "n = 100\n",
    "x = np.random.randn(n, 2)\n",
    "x[:n // 4, 0] -= 4\n",
    "x[n // 4:n // 2, 0] += 4\n",
    "x = x - np.mean(x, axis=0)\n",
    "x2 = x\n",
    "y2 = np.concatenate((np.ones(n // 2), 2 * np.ones(n // 2)))"
   ]
  },
  {
   "cell_type": "code",
   "execution_count": 553,
   "metadata": {},
   "outputs": [
    {
     "name": "stdout",
     "output_type": "stream",
     "text": [
      "[-0.00597065  0.09800593] 0.004195298716675413\n"
     ]
    }
   ],
   "source": [
    "t,v = FDA(x2,y2)\n",
    "print(t,v)"
   ]
  },
  {
   "cell_type": "markdown",
   "metadata": {},
   "source": [
    "## Plotting"
   ]
  },
  {
   "cell_type": "code",
   "execution_count": 554,
   "metadata": {},
   "outputs": [
    {
     "data": {
      "image/png": "[encoded data removed]",
      "text/plain": [
       "<Figure size 432x288 with 1 Axes>"
      ]
     },
     "metadata": {
      "needs_background": "light"
     },
     "output_type": "display_data"
    }
   ],
   "source": [
    "plt.figure(2)\n",
    "plt.clf()\n",
    "plt.axis([-8, 8, -6, 6])\n",
    "\n",
    "plt.plot(x2[y2 == 1, 0], x2[y2 == 1, 1], 'bo')\n",
    "plt.plot(x2[y2 == 2, 0], x2[y2 == 2, 1], 'rx')\n",
    "plt.plot(np.array([-t[0], t[0]]) * 99, np.array([-t[1], t[1]]) * 99, color = \"black\")\n",
    "\n",
    "plt.xlabel('x 1')\n",
    "plt.ylabel('x 2')\n",
    "plt.title('FDA Plot')\n",
    "plt.legend(['Class 1', 'Class 2', 'FDA'])\n",
    "plt.grid()\n",
    "plt.show()"
   ]
  },
  {
   "cell_type": "markdown",
   "metadata": {},
   "source": [
    "# Compute LFDA"
   ]
  },
  {
   "cell_type": "code",
   "execution_count": 555,
   "metadata": {},
   "outputs": [],
   "source": [
    "def LFDA(x,y):\n",
    "    # LFDA\n",
    "    Sw = np.zeros((2, 2))\n",
    "    Sb = np.zeros((2, 2))\n",
    "\n",
    "    for j in range(1, 3):\n",
    "        p = x[y == j, :]\n",
    "        nj = np.sum(y == j)\n",
    "\n",
    "        W = np.exp(-np.sum((p[:, None] - p[None]) ** 2, axis=2))\n",
    "        G = p.T @ (p.T*np.sum(W, axis=1)).T - p.T @ W @ p\n",
    "\n",
    "        Sb += G / n + p.T @ p * (1 - nj / n) + (p**2).T @ (p**2) / n\n",
    "        Sw += G / nj\n",
    "\n",
    "    # Compute the eigenvectors and eigenvalues\n",
    "    eigenvalues, eigenvectors = eigh((Sb + Sb.T) / 2, (Sw + Sw.T) / 2, eigvals=(1, 1))\n",
    "\n",
    "    t = eigenvectors.flatten()\n",
    "    v = eigenvalues[0]\n",
    "    return t,v"
   ]
  },
  {
   "cell_type": "markdown",
   "metadata": {},
   "source": [
    "## Plotting Data - 1"
   ]
  },
  {
   "cell_type": "code",
   "execution_count": 556,
   "metadata": {},
   "outputs": [
    {
     "data": {
      "image/png": "[encoded data removed]",
      "text/plain": [
       "<Figure size 432x288 with 1 Axes>"
      ]
     },
     "metadata": {
      "needs_background": "light"
     },
     "output_type": "display_data"
    }
   ],
   "source": [
    "t,v = LFDA(x1,y1)\n",
    "plt.figure(3)\n",
    "plt.clf()\n",
    "plt.axis([-8, 8, -6, 6])\n",
    "\n",
    "plt.plot(x1[y1 == 1, 0], x1[y1 == 1, 1], 'bo')\n",
    "plt.plot(x1[y1 == 2, 0], x[y1 == 2, 1], 'rx')\n",
    "plt.plot(np.array([-t[0], t[0]]) * 99, np.array([-t[1], t[1]]) * 99, color = \"black\")\n",
    "\n",
    "plt.xlabel('x 1')\n",
    "plt.ylabel('x 2')\n",
    "plt.title('LFDA Plot')\n",
    "plt.legend(['Class 1', 'Class 2', 'LFDA'])\n",
    "plt.grid()\n",
    "plt.show()"
   ]
  },
  {
   "cell_type": "markdown",
   "metadata": {},
   "source": [
    "## Plotting Data - 2"
   ]
  },
  {
   "cell_type": "code",
   "execution_count": 557,
   "metadata": {},
   "outputs": [
    {
     "data": {
      "image/png": "[encoded data removed]",
      "text/plain": [
       "<Figure size 432x288 with 1 Axes>"
      ]
     },
     "metadata": {
      "needs_background": "light"
     },
     "output_type": "display_data"
    }
   ],
   "source": [
    "t,v = LFDA(x2,y2)\n",
    "plt.figure(4)\n",
    "plt.clf()\n",
    "plt.axis([-8, 8, -6, 6])\n",
    "\n",
    "plt.plot(x2[y2 == 1, 0], x2[y2 == 1, 1], 'bo')\n",
    "plt.plot(x2[y2 == 2, 0], x2[y2 == 2, 1], 'rx')\n",
    "plt.plot(np.array([-t[0], t[0]]) * 99, np.array([-t[1], t[1]]) * 99, color = \"black\")\n",
    "\n",
    "plt.xlabel('x 1')\n",
    "plt.ylabel('x 2')\n",
    "plt.title('LFDA Plot')\n",
    "plt.legend(['Class 1', 'Class 2', 'LFDA'])\n",
    "plt.grid()\n",
    "plt.show()"
   ]
  }
 ],
 "metadata": {
  "kernelspec": {
   "display_name": "base",
   "language": "python",
   "name": "python3"
  },
  "language_info": {
   "codemirror_mode": {
    "name": "ipython",
    "version": 3
   },
   "file_extension": ".py",
   "mimetype": "text/x-python",
   "name": "python",
   "nbconvert_exporter": "python",
   "pygments_lexer": "ipython3",
   "version": "3.9.12"
  },
  "orig_nbformat": 4
 },
 "nbformat": 4,
 "nbformat_minor": 2
}

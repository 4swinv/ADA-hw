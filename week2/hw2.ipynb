{
 "cells": [
  {
   "cell_type": "code",
   "execution_count": 93,
   "metadata": {},
   "outputs": [],
   "source": [
    "from __future__ import division\n",
    "from __future__ import print_function\n",
    "\n",
    "import numpy as np\n",
    "import matplotlib\n",
    "\n",
    "matplotlib.use('TkAgg')\n",
    "import matplotlib.pyplot as plt"
   ]
  },
  {
   "attachments": {},
   "cell_type": "markdown",
   "metadata": {},
   "source": [
    "# Generating data"
   ]
  },
  {
   "cell_type": "code",
   "execution_count": 94,
   "metadata": {},
   "outputs": [],
   "source": [
    "np.random.seed(0)  # set the random seed for reproducibility\n",
    "\n",
    "def generate_sample(xmin, xmax, sample_size):\n",
    "    x = np.linspace(start=xmin, stop=xmax, num=sample_size)\n",
    "    pix = np.pi * x\n",
    "    target = np.sin(pix) / pix + 0.1 * x\n",
    "    noise = 0.05 * np.random.normal(loc=0., scale=1., size=sample_size)\n",
    "    return x, target, target + noise\n",
    "\n",
    "\n",
    "def calc_design_matrix(x, c, h):\n",
    "    return np.exp(-(x[None] - c[:, None]) ** 2 / (2 * h ** 2))"
   ]
  },
  {
   "cell_type": "code",
   "execution_count": 95,
   "metadata": {},
   "outputs": [],
   "source": [
    "# create sample\n",
    "sample_size = 50\n",
    "xmin, xmax = -3, 3\n",
    "x, ytrue, y = generate_sample(xmin=xmin, xmax=xmax, sample_size=sample_size)"
   ]
  },
  {
   "attachments": {},
   "cell_type": "markdown",
   "metadata": {},
   "source": [
    "# Cross Validation"
   ]
  },
  {
   "cell_type": "code",
   "execution_count": 96,
   "metadata": {},
   "outputs": [],
   "source": [
    "def cross_validation(x,y,lm,hh,sample_size):\n",
    "    # Erros list\n",
    "    errors = np.zeros((hh.size,lm.size,))\n",
    "    # Theta list\n",
    "    thetas = []\n",
    "\n",
    "    # loop over the badwidths h\n",
    "    for n1,h in enumerate(hh):\n",
    "        # loop over the lambda values l\n",
    "        for n2,l in enumerate(lm):\n",
    "            # loop over the dataset leaving out one sample at each iteration\n",
    "            err = 0 # Store test errors\n",
    "            for i in range(sample_size):\n",
    "\n",
    "                # Compute cross validation training and validation data\n",
    "                x_val = np.atleast_1d(x[i])\n",
    "                y_val = y[i]\n",
    "                x_loocv = np.delete(x,i)\n",
    "                y_loocv = np.delete(y,i)\n",
    "                # calculate design matrix\n",
    "                k = calc_design_matrix(x_loocv, x_loocv, h)\n",
    "                # Solve the least square problem\n",
    "                theta = np.linalg.solve(\n",
    "                    k.T.dot(k) + l * np.identity(len(k)),\n",
    "                    k.T.dot(y_loocv[:, None]))\n",
    "                # Compute prediction \n",
    "                K = calc_design_matrix(x_loocv, x_val, h)\n",
    "                prediction = K.dot(theta)\n",
    "                # Compute squared error and store\n",
    "                err+=(np.ndarray.item(prediction)-y[i])**2\n",
    "            # Store mean errors for different parameter values.\n",
    "            errors[n1,n2]=(err/sample_size)\n",
    "            # Store the learned parameter\n",
    "            thetas.append(theta)\n",
    "    \n",
    "    min_in = np.unravel_index(errors.argmin(), errors.shape)\n",
    "    print(f\"Minimum Cross Validation Error is {errors[min_in]} at Lambda = {lm[min_in[1]]} and Bandwidth = {hh[min_in[0]]}\")\n",
    "\n",
    "    return thetas,errors\n",
    "            "
   ]
  },
  {
   "attachments": {},
   "cell_type": "markdown",
   "metadata": {},
   "source": [
    "# Run Cross Validation"
   ]
  },
  {
   "cell_type": "code",
   "execution_count": 97,
   "metadata": {},
   "outputs": [
    {
     "name": "stdout",
     "output_type": "stream",
     "text": [
      "Minimum Cross Validation Error is 0.0037134179245161066 at Lambda = 0.1 and Bandwidth = 0.3\n"
     ]
    }
   ],
   "source": [
    "#define lambda values\n",
    "lm = np.array([0.0001,0.1,100])\n",
    "#define range of gaussian bandwidth h\n",
    "hh = np.array([0.03,0.3,3])\n",
    "\n",
    "thetas,errors = cross_validation(x,y,lm,hh,sample_size)\n"
   ]
  },
  {
   "attachments": {},
   "cell_type": "markdown",
   "metadata": {},
   "source": [
    "# Plotting"
   ]
  },
  {
   "cell_type": "code",
   "execution_count": 98,
   "metadata": {},
   "outputs": [],
   "source": [
    "\n",
    "# create data to visualize the prediction\n",
    "X = np.linspace(start=xmin, stop=xmax, num=5000)\n",
    "\n",
    "# define subplot grid\n",
    "fig, axs = plt.subplots(nrows=3, ncols=3, figsize=(20, 20))\n",
    "plt.subplots_adjust(hspace=0.5)\n",
    "fig.suptitle(\"Model selection w/ regularized regression\", fontsize=18, y=0.95)\n",
    "\n",
    "comb_array = np.array(np.meshgrid(hh, lm)).T.reshape(-1, 2)\n"
   ]
  },
  {
   "cell_type": "code",
   "execution_count": null,
   "metadata": {},
   "outputs": [],
   "source": [
    "\n",
    "for theta,c,ax in zip(thetas,comb_array,axs.ravel()):\n",
    "    #print(theta,l,h)\n",
    "    h,l = c[0],c[1]\n",
    "    K = calc_design_matrix(x[:-1], X, h)\n",
    "    prediction = K.dot(theta)\n",
    "    # visualization\n",
    "    ax.scatter(x, y, c='blue', marker='o')\n",
    "    ax.plot(x, ytrue, c='red',label=\"Ground Truth\")\n",
    "    ax.plot(X, prediction, c=\"green\", label=\"Prediction\")\n",
    "    \n",
    "    plt.legend()\n",
    "    fig.supxlabel('lambda = [0.0001,0.1,100]')\n",
    "    fig.supylabel('h = [0.03,0.3,3]')\n",
    "\n",
    "plt.show()\n",
    "#plt.savefig('output.png')"
   ]
  }
 ],
 "metadata": {
  "kernelspec": {
   "display_name": "base",
   "language": "python",
   "name": "python3"
  },
  "language_info": {
   "codemirror_mode": {
    "name": "ipython",
    "version": 3
   },
   "file_extension": ".py",
   "mimetype": "text/x-python",
   "name": "python",
   "nbconvert_exporter": "python",
   "pygments_lexer": "ipython3",
   "version": "3.9.12"
  },
  "orig_nbformat": 4
 },
 "nbformat": 4,
 "nbformat_minor": 2
}

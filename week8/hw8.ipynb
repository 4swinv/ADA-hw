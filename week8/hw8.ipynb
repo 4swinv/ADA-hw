{
 "cells": [
  {
   "attachments": {},
   "cell_type": "markdown",
   "metadata": {},
   "source": [
    "# Home Work 8 - Scaled dot Product Attention"
   ]
  },
  {
   "cell_type": "code",
   "execution_count": 3,
   "metadata": {},
   "outputs": [
    {
     "name": "stdout",
     "output_type": "stream",
     "text": [
      "Output:\n",
      "True\n",
      "True\n"
     ]
    }
   ],
   "source": [
    "import torch; from torch import nn; from torch.nn import functional as F\n",
    "\n",
    "d = 4; B = 1; T = 5\n",
    "Q, K, V = torch.randn(B, T, d), torch.randn(B, T, d), torch.randn(B, T, d)\n",
    "\n",
    "# PyTorch way\n",
    "MHA = nn.MultiheadAttention(d, num_heads=1, bias=False, batch_first=True)\n",
    "Wi, Wo = MHA.in_proj_weight, MHA.out_proj.weight \n",
    "MHA_output, MHA_attention = MHA(Q, K, V) # shapes B, T, d and B, T, T\n",
    "\n",
    "# Manual way\n",
    "Wi_q, Wi_k, Wi_v = Wi.chunk(3)\n",
    "Q, K, V = Q.squeeze(0), K.squeeze(0), V.squeeze(0) # remove batch dim\n",
    "\n",
    "# write code here to derive `manual_attention` and `manual_output`.\n",
    "\n",
    "# Apply projection weights\n",
    "Q_proj = Q @ Wi_q.T\n",
    "K_proj = K @ Wi_k.T\n",
    "V_proj = V @ Wi_v.T\n",
    "\n",
    "# Compute attention scores\n",
    "scaled_dot_product = Q_proj @ K_proj.T / d**0.5\n",
    "manual_attention = F.softmax(scaled_dot_product, dim=-1)\n",
    "\n",
    "# Compute manual output\n",
    "manual_output = manual_attention @ V_proj @ Wo.T\n",
    "\n",
    "# Compare the two\n",
    "print(\"Output:\")\n",
    "print(torch.allclose(MHA_attention, manual_attention)) # Aim for True\n",
    "print(torch.allclose(MHA_output, manual_output)) # Aim for True"
   ]
  }
 ],
 "metadata": {
  "kernelspec": {
   "display_name": "pytorch_env",
   "language": "python",
   "name": "python3"
  },
  "language_info": {
   "codemirror_mode": {
    "name": "ipython",
    "version": 3
   },
   "file_extension": ".py",
   "mimetype": "text/x-python",
   "name": "python",
   "nbconvert_exporter": "python",
   "pygments_lexer": "ipython3",
   "version": "3.9.12"
  },
  "orig_nbformat": 4
 },
 "nbformat": 4,
 "nbformat_minor": 2
}

{
 "cells": [
  {
   "attachments": {},
   "cell_type": "markdown",
   "metadata": {},
   "source": [
    "# Home work 9 - Advanced Data Analysis\n",
    "## Laplacian-regularized least squares by using the Gaussian kernel model."
   ]
  },
  {
   "cell_type": "code",
   "execution_count": 159,
   "metadata": {},
   "outputs": [],
   "source": [
    "import numpy as np; import matplotlib\n",
    "import matplotlib.pyplot as plt\n",
    "np.random.seed(1)"
   ]
  },
  {
   "attachments": {},
   "cell_type": "markdown",
   "metadata": {},
   "source": [
    "# Generate Data"
   ]
  },
  {
   "cell_type": "code",
   "execution_count": 160,
   "metadata": {},
   "outputs": [],
   "source": [
    "def generate_data(n=200):\n",
    "    x = np.linspace(0, np.pi, n // 2)\n",
    "    u = np.stack([np.cos(x) + .5, -np.sin(x)], axis=1) * 10.\n",
    "    u += np.random.normal(size=u.shape)\n",
    "    v = np.stack([np.cos(x) - .5, np.sin(x)], axis=1) * 10.\n",
    "    v += np.random.normal(size=v.shape)\n",
    "    x = np.concatenate([u, v], axis=0)\n",
    "    y = np.zeros(n)\n",
    "    y[0] = 1\n",
    "    y[-1] = -1\n",
    "    return x, y"
   ]
  },
  {
   "attachments": {},
   "cell_type": "markdown",
   "metadata": {},
   "source": [
    "# Implement LRLS"
   ]
  },
  {
   "cell_type": "code",
   "execution_count": 161,
   "metadata": {},
   "outputs": [],
   "source": [
    "def lrls(x, y, h=1., l=1., nu=1.):\n",
    "    \"\"\"\n",
    "    :param x: data points\n",
    "    :param y: labels of data points\n",
    "    :param h: width parameter of the Gaussian kernel\n",
    "    :param l: weight decay\n",
    "    :param nu: Laplace regularization\n",
    "    :return:\n",
    "    \"\"\"\n",
    "\n",
    "    # Implement this function\n",
    "    n = x.shape[0]\n",
    "    # Calculate Distances\n",
    "    x_sq = np.sum((x[None] - x[:, None])**2,axis=2)\n",
    "    K = np.exp(- x_sq  / (2 * h ** 2))\n",
    "    # Set Weighting matrix\n",
    "    W = K\n",
    "    # Compute diagonal matrix\n",
    "    d = np.diag(np.sum(W,axis=0))\n",
    "\n",
    "    L = d - W # Compute Laplacian\n",
    "    \n",
    "    # Compute prediction\n",
    "    prediction = np.linalg.solve(K ** 2 + l * np.eye(n) + 2 * nu * K.T @ L @ K, K.T @ y)\n",
    "\n",
    "    return prediction"
   ]
  },
  {
   "attachments": {},
   "cell_type": "markdown",
   "metadata": {},
   "source": [
    "# Visualize Data"
   ]
  },
  {
   "cell_type": "code",
   "execution_count": 162,
   "metadata": {},
   "outputs": [
    {
     "data": {
      "text/plain": [
       "<Figure size 432x288 with 0 Axes>"
      ]
     },
     "metadata": {},
     "output_type": "display_data"
    },
    {
     "data": {
      "image/png": "[encoded data removed]",
      "text/plain": [
       "<Figure size 864x864 with 1 Axes>"
      ]
     },
     "metadata": {
      "needs_background": "light"
     },
     "output_type": "display_data"
    }
   ],
   "source": [
    "def visualize(x, y, theta, h=1.):\n",
    "    plt.clf()\n",
    "    plt.figure(figsize=(12, 12))\n",
    "    plt.xlim(-20., 20.)\n",
    "    plt.ylim(-20., 20.)\n",
    "    grid_size = 100\n",
    "    grid = np.linspace(-20., 20., grid_size)\n",
    "    X, Y = np.meshgrid(grid, grid)\n",
    "    mesh_grid = np.stack([np.ravel(X), np.ravel(Y)], axis=1)\n",
    "    k = np.exp(-np.sum((x.astype(np.float32)[:, None] - mesh_grid.astype(\n",
    "    np.float32)[None]) ** 2, axis=2).astype(np.float64) / (2 * h ** 2))\n",
    "    plt.contourf(X, Y, np.reshape(np.sign(k.T.dot(theta)),\n",
    "    (grid_size, grid_size)),\n",
    "    alpha=.4, cmap=plt.cm.coolwarm)\n",
    "    plt.scatter(x[y == 0][:, 0], x[y == 0][:, 1], marker='$.$', c='black')\n",
    "    plt.scatter(x[y == 1][:, 0], x[y == 1][:, 1], marker='$X$', c='red')\n",
    "    plt.scatter(x[y == -1][:, 0], x[y == -1][:, 1], marker='$O$', c='blue')\n",
    "    # plt.savefig(‘homework.png')\n",
    "\n",
    "x, y = generate_data(n=200)\n",
    "theta = lrls(x, y, h=1.)\n",
    "visualize(x, y, theta)"
   ]
  }
 ],
 "metadata": {
  "kernelspec": {
   "display_name": "base",
   "language": "python",
   "name": "python3"
  },
  "language_info": {
   "codemirror_mode": {
    "name": "ipython",
    "version": 3
   },
   "file_extension": ".py",
   "mimetype": "text/x-python",
   "name": "python",
   "nbconvert_exporter": "python",
   "pygments_lexer": "ipython3",
   "version": "3.9.12"
  },
  "orig_nbformat": 4
 },
 "nbformat": 4,
 "nbformat_minor": 2
}
